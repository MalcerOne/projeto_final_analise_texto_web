{
 "cells": [
  {
   "cell_type": "markdown",
   "id": "e677ef80",
   "metadata": {},
   "source": [
    "# Projeto Final\n",
    "## Análise de Texto de Fontes Desestruturadas e Web.\n",
    "\n",
    "#### Integrantes\n",
    "- Manuel Castanares\n",
    "- Rafael Malcervelli "
   ]
  },
  {
   "cell_type": "markdown",
   "id": "947e28f4",
   "metadata": {},
   "source": [
    "### Objetivo"
   ]
  },
  {
   "cell_type": "markdown",
   "id": "9b6e2313",
   "metadata": {},
   "source": [
    "O projeto envolverá o uso das técnicas aprendidas em aula para conduzir, com autonomia, a criação de uma prova de conceito envolvendo a extração de dados de fontes desestruturadas e sua posterior análise."
   ]
  },
  {
   "cell_type": "markdown",
   "id": "91708a6f",
   "metadata": {},
   "source": [
    "### Introdução"
   ]
  },
  {
   "cell_type": "markdown",
   "id": "1620088c",
   "metadata": {},
   "source": [
    "No mercado de PC gamers, a escolha de componentes é uma decisão crítica que pode afetar significativamente o desempenho e a satisfação do usuário final. Dada a constante flutuação dos preços e a vasta gama de produtos disponíveis, consumidores e montadores de PCs enfrentam o desafio de identificar as melhores opções de compra. Este projeto propõe a utilização de técnicas de web scraping e análise de texto para extrair e analisar dados de múltiplos marketplaces, proporcionando uma ferramenta útil para a comparação de preços, disponibilidade de estoque e qualidade percebida dos componentes."
   ]
  },
  {
   "cell_type": "markdown",
   "id": "32cc4161",
   "metadata": {},
   "source": [
    "<p align=center>\n",
    "    <img src=\" ./imgs/pc_gamer_1.jpg\" alt=\"PC GAMER\" class=\"bg-primary mb-1\" width=\"500px\">\n",
    "</p>"
   ]
  },
  {
   "cell_type": "markdown",
   "id": "74a93fd6",
   "metadata": {},
   "source": [
    "### Problema"
   ]
  },
  {
   "cell_type": "markdown",
   "id": "0c29901c",
   "metadata": {},
   "source": [
    "A principal problemática abordada neste projeto é a dificuldade em obter uma visão clara e atualizada das melhores opções de compra para componentes de PCs gamers devido à volatilidade dos preços e à diversidade de produtos. Esta situação leva a decisões de compra que nem sempre são ótimas em termos de custo-benefício. Portanto, a necessidade de uma solução que agilize e refine o processo de escolha se faz essencial para consumidores e profissionais da área.\n",
    "\n",
    "A situacao-problema que propomos aqui é a seguinte:<br><br>\n",
    "Um jovem gostaria de montar um PC gamer que consiga rodar com facilidade os jogos atuais (gráfico avancados, demandando processamento de video) e jogos competitivos. Para isso, esse jovem ja tem em mente a maquina que gostaria de montar com todos os seus componentes e explicacoes dos mesmos, que seguem:\n",
    "\n",
    "- Placa-mae: O 'coração' do computador, conecta todos os componentes, permitindo que eles se comuniquem. A escolha da placa-mãe influencia diretamente quais processadores e tipos de memória serão compatíveis. -> Placa escolhida para análise (**Asus TUF GAMING Z690-PLUS D4 ATX LGA 1700**). <br><br>\n",
    "- CPU (Processador): O 'cérebro' do PC, crucial para o processamento de todas as tarefas. O desempenho do processador afeta diretamente a capacidade do sistema em executar jogos complexos sem travamentos. -> CPU escolhida para análise (**Intel Core i7 12700K 3.6 GHz 12-Core**).<br><br>\n",
    "- GPU (Placa de vídeo): Fundamental para renderizar gráficos avançados em tempo real, a escolha da placa de vídeo é crucial para a experiência visual em jogos. -> GPU escolhida para análise (**Gigabyte GeForce RTX 4060 8 GB Gaming**).<br><br>\n",
    "- Memória RAM: Responsável por armazenar os dados temporários do sistema, uma quantidade suficiente de RAM é vital para garantir uma operação suave e eficiente durante jogos intensivos. -> Memória escolhida para análise (**Kingston HyperX Fury Black Series (Preto) 8 GB (1x8 GB) DDR4-2666**).<br><br>\n",
    "- Armazenamento (SSD): Discos de estado sólido (SSD) proporcionam tempos de carregamento mais rápidos para sistemas operacionais e jogos quando comparados aos discos rígidos tradicionais (HDD). -> SSD escolhido para análise (**SanDisk SSD Plus 1 TB 2.5\"**).<br><br>\n",
    "- Fonte de Alimentação: Supre a energia necessária para todos os componentes. Uma fonte de qualidade e com potência adequada é essencial para a estabilidade e longevidade do sistema. -> Fonte escolhida para análise (**Corsair CV550 550 W Certificado 80+ Bronze ATX**).<br><br>\n",
    "- Fans (Ventoinhas): Cruciais para manter uma temperatura operacional adequada dentro do gabinete, evitando o superaquecimento dos componentes. -> Fan escolhido para análise (**Cooler Master Masterfan Mf120 Halo RGB**).<br><br>\n",
    "- Cooler para CPU: Específico para o resfriamento do processador, é vital para manter o desempenho sem riscos de superaquecimento, especialmente em sessões prolongadas de jogos. -> Cooler escolhido para análise (**Deepcool AG400 BK**).<br><br>\n",
    "- Gabinete: Estrutura do PC que irá segurar todas as pecas nos seus devidos lugares. Além da questao estetica, é sempre bom visar por gabinetes que apresentam um bom fluxo de ar dentro deles, permitindo uma maior circulacao e consequentemente, uma diminuicao na temperatura das pecas. -> Gabinete escolhido para análise (** **)."
   ]
  },
  {
   "cell_type": "markdown",
   "id": "dd069117",
   "metadata": {},
   "source": [
    "<p align=center>\n",
    "    <img src=\" ./imgs/pc_gamer_2.jpg\" alt=\"PC GAMER 2\" class=\"bg-primary mb-1\" width=\"500px\">\n",
    "</p>"
   ]
  },
  {
   "cell_type": "markdown",
   "id": "35d3f958",
   "metadata": {},
   "source": [
    "### Extração de dados"
   ]
  },
  {
   "cell_type": "markdown",
   "id": "1f19314e",
   "metadata": {},
   "source": [
    "Para iniciar a extração, iremos considerar alguns site que apresentam tais produtos para que possamos analisá-los."
   ]
  },
  {
   "cell_type": "markdown",
   "id": "c59d456c",
   "metadata": {},
   "source": [
    "### Placa-mae"
   ]
  },
  {
   "cell_type": "markdown",
   "id": "58349462",
   "metadata": {},
   "source": [
    "##### KABUM"
   ]
  },
  {
   "cell_type": "code",
   "execution_count": 1,
   "id": "83c58610",
   "metadata": {},
   "outputs": [],
   "source": [
    "import requests\n",
    "from bs4 import BeautifulSoup"
   ]
  },
  {
   "cell_type": "code",
   "execution_count": 45,
   "id": "7e1c120f",
   "metadata": {},
   "outputs": [
    {
     "name": "stdout",
     "output_type": "stream",
     "text": [
      "369.99\n",
      "784.99\n",
      "549.99\n",
      "499.99\n",
      "359.99\n",
      "648.99\n",
      "899.99\n",
      "474.99\n",
      "598.99\n",
      "474.99\n",
      "[['Placa Mãe MSI A520M-A PRO, AMD AM4, mATX, DDR4', 0, 369.99], ['Placa Mãe Gigabyte B550M Aorus Elite, AMD AM4, Micro ATX, DDR4', 0, 784.99], ['Placa Mãe Asus TUF GAMING A520M-PLUS II, AMD AM4, mATX, DDR4', 0, 549.99], ['Placa Mãe MSI B560M PRO-E, Intel LGA 1200, mATX, DDR4', 0, 499.99], ['Placa Mãe ASRock B450M-HDV R4.0, AMD AM4, Micro ATX, DDR4', 0, 359.99], ['Placa Mãe ASRock B450M Steel Legend, AMD AM4, mATX, DDR4', 0, 648.99], ['Placa-Mãe MSI MPG B550 Gaming Plus, AMD AM4, ATX', 0, 899.99], ['Placa Mãe Gigabyte B450M DS3H V2, AMD B450, mATX, DDR4, (rev. 1.0)', 0, 474.99], ['Placa-Mãe Asus TUF Gaming B450M-Plus II, AMD AM4, mATX, DDR4', 0, 598.99], ['Placa Mãe Gigabyte H610M (rev. 1.0), Intel LGA1700, H610, DDR4, mATX - H610M H DDR4', 0, 474.99]]\n"
     ]
    }
   ],
   "source": [
    "data = []\n",
    "\n",
    "def get_most_popular_motherboards():\n",
    "   \n",
    "    url = \"https://www.kabum.com.br/hardware/placas-mae\"\n",
    "    response = requests.get(url)\n",
    "\n",
    "    \n",
    "    if response.status_code == 200:\n",
    "        \n",
    "        soup = BeautifulSoup(response.content, 'html.parser')\n",
    "\n",
    "        \n",
    "        motherboard_elements = soup.find_all('span', class_='sc-d79c9c3f-0 nlmfp sc-9d1f1537-16 fQnige nameCard')\n",
    "       \n",
    "        motherboards = [mb.get_text(strip=True) for mb in motherboard_elements]\n",
    "\n",
    "        \n",
    "        return motherboards[:10]\n",
    "    else:\n",
    "        print(\"Failed to retrieve motherboard list\")\n",
    "        return []\n",
    "\n",
    "\n",
    "def get_product_price(product_url):\n",
    "   \n",
    "    response = requests.get(product_url)\n",
    "\n",
    "   \n",
    "    if response.status_code == 200:\n",
    "        \n",
    "        soup = BeautifulSoup(response.content, 'html.parser')\n",
    "\n",
    "       \n",
    "        price_element = soup.find('h4', class_='sc-5492faee-2 ipHrwP finalPrice')\n",
    "\n",
    "       \n",
    "        if price_element:\n",
    "            price_text = price_element.get_text(strip=True)\n",
    "            return price_text\n",
    "        else:\n",
    "            return \"Price not found\"\n",
    "\n",
    "    else:\n",
    "        return \"Failed to retrieve page\"\n",
    "\n",
    "\n",
    "\n",
    "motherboards = get_most_popular_motherboards()\n",
    "\n",
    "\n",
    "for mb_name in motherboards:\n",
    "    \n",
    "    search_query = mb_name.replace(',', '')\n",
    "    search_query = search_query.replace(' ', '-')\n",
    "    search_query = search_query.replace('ã', '%C3%A3')\n",
    "    search_url = f\"https://www.kabum.com.br/busca/{search_query}\"\n",
    "    response = requests.get(search_url, stream=True)\n",
    "    response.encoding = 'utf-8'\n",
    "    soup = BeautifulSoup(response.text, 'html.parser')\n",
    "    \n",
    "    product_url = soup.find('a', class_='sc-9d1f1537-10 kueyFw productLink')['href']\n",
    "    product_url = 'https://www.kabum.com.br/' + product_url\n",
    "    \n",
    "    product_price = get_product_price(product_url)\n",
    "    product_price = product_price.replace(' ', '')\n",
    "    product_price = product_price.replace('R$', '')\n",
    "    product_price = product_price.replace('.', '')\n",
    "    product_price = product_price.replace(',', '.')\n",
    "    line_data = [mb_name, 0, float(product_price)]\n",
    "    data.append(line_data)\n",
    "print(data)"
   ]
  },
  {
   "cell_type": "code",
   "execution_count": 46,
   "id": "4e2635ad",
   "metadata": {},
   "outputs": [],
   "source": [
    "def get_most_popular_cpus():\n",
    "    \n",
    "    url = \"https://www.kabum.com.br/hardware/processadores\"\n",
    "    response = requests.get(url)\n",
    "\n",
    "    \n",
    "    if response.status_code == 200:\n",
    "       \n",
    "        soup = BeautifulSoup(response.content, 'html.parser')\n",
    "\n",
    "        \n",
    "        cpu_elements = soup.find_all('span', class_='sc-d79c9c3f-0 nlmfp sc-9d1f1537-16 fQnige nameCard')\n",
    "        \n",
    "        cpus = [mb.get_text(strip=True) for mb in cpu_elements]\n",
    "\n",
    "        \n",
    "        return cpus[:10]\n",
    "    else:\n",
    "        print(\"Failed to retrieve cpu list\")\n",
    "        return []\n",
    "\n",
    "\n",
    "cpus = get_most_popular_cpus()\n",
    "\n",
    "for cpu_name in cpus:\n",
    "    \n",
    "    search_query = cpu_name.replace(',', '')\n",
    "    search_query = search_query.replace(' ', '-')\n",
    "    search_query = search_query.replace('ã', '%C3%A3')\n",
    "    search_url = f\"https://www.kabum.com.br/busca/{search_query}\"\n",
    "    response = requests.get(search_url, stream=True)\n",
    "    response.encoding = 'utf-8'\n",
    "    soup = BeautifulSoup(response.text, 'html.parser')\n",
    "   \n",
    "    product_url = soup.find('a', class_='sc-9d1f1537-10 kueyFw productLink')['href']\n",
    "    product_url = 'https://www.kabum.com.br/' + product_url\n",
    "    \n",
    "    product_price = get_product_price(product_url)\n",
    "    product_price = product_price.replace(' ', '')\n",
    "    product_price = product_price.replace('R$', '')\n",
    "    product_price = product_price.replace('.', '')\n",
    "    product_price = product_price.replace(',', '.')\n",
    "    line_data = [cpu_name, 1, float(product_price)]\n",
    "    data.append(line_data)\n"
   ]
  },
  {
   "cell_type": "code",
   "execution_count": 48,
   "id": "0d369bae",
   "metadata": {},
   "outputs": [],
   "source": [
    "def get_most_popular_gpus():\n",
    "    \n",
    "    url = \"https://www.kabum.com.br/hardware/placa-de-video-vga\"\n",
    "    response = requests.get(url)\n",
    "\n",
    "    \n",
    "    if response.status_code == 200:\n",
    "        \n",
    "        soup = BeautifulSoup(response.content, 'html.parser')\n",
    "\n",
    "       \n",
    "        gpu_elements = soup.find_all('span', class_='sc-d79c9c3f-0 nlmfp sc-9d1f1537-16 fQnige nameCard')\n",
    "        \n",
    "        gpus = [mb.get_text(strip=True) for mb in gpu_elements]\n",
    "\n",
    "       \n",
    "        return gpus[:10]\n",
    "    else:\n",
    "        print(\"Failed to retrieve gpu list\")\n",
    "        return []\n",
    "\n",
    "\n",
    "gpus = get_most_popular_gpus()\n",
    "\n",
    "for gpu_name in gpus:\n",
    "   \n",
    "    search_query = gpu_name.replace(',', '')\n",
    "    search_query = search_query.replace(' ', '-')\n",
    "    search_query = search_query.replace('ã', '%C3%A3')\n",
    "    search_url = f\"https://www.kabum.com.br/busca/{search_query}\"\n",
    "    response = requests.get(search_url, stream=True)\n",
    "    response.encoding = 'utf-8'\n",
    "    soup = BeautifulSoup(response.text, 'html.parser')\n",
    "    \n",
    "    product_url = soup.find('a', class_='sc-9d1f1537-10 kueyFw productLink')['href']\n",
    "    product_url = 'https://www.kabum.com.br/' + product_url\n",
    "    \n",
    "    product_price = get_product_price(product_url)\n",
    "    product_price = product_price.replace(' ', '')\n",
    "    product_price = product_price.replace('R$', '')\n",
    "    product_price = product_price.replace('.', '')\n",
    "    product_price = product_price.replace(',', '.')\n",
    "    line_data = [gpu_name, 2, float(product_price)]\n",
    "    data.append(line_data)\n"
   ]
  },
  {
   "cell_type": "code",
   "execution_count": 49,
   "id": "692fe2a4",
   "metadata": {},
   "outputs": [
    {
     "name": "stdout",
     "output_type": "stream",
     "text": [
      "[['Placa Mãe MSI A520M-A PRO, AMD AM4, mATX, DDR4', 0, 369.99], ['Placa Mãe Gigabyte B550M Aorus Elite, AMD AM4, Micro ATX, DDR4', 0, 784.99], ['Placa Mãe Asus TUF GAMING A520M-PLUS II, AMD AM4, mATX, DDR4', 0, 549.99], ['Placa Mãe MSI B560M PRO-E, Intel LGA 1200, mATX, DDR4', 0, 499.99], ['Placa Mãe ASRock B450M-HDV R4.0, AMD AM4, Micro ATX, DDR4', 0, 359.99], ['Placa Mãe ASRock B450M Steel Legend, AMD AM4, mATX, DDR4', 0, 648.99], ['Placa-Mãe MSI MPG B550 Gaming Plus, AMD AM4, ATX', 0, 899.99], ['Placa Mãe Gigabyte B450M DS3H V2, AMD B450, mATX, DDR4, (rev. 1.0)', 0, 474.99], ['Placa-Mãe Asus TUF Gaming B450M-Plus II, AMD AM4, mATX, DDR4', 0, 598.99], ['Placa Mãe Gigabyte H610M (rev. 1.0), Intel LGA1700, H610, DDR4, mATX - H610M H DDR4', 0, 474.99], ['Processador AMD Ryzen 5 4600G, 3.7GHz (4.2GHz Max Turbo), Cache 11MB, AM4, Vídeo Integrado - 100-100000147BOX', 1, 599.99], ['Processador AMD Ryzen 7 5700X3D, 3.6 GHz, (4.1GHz Max Turbo), Cachê 4MB, 8 Núcleos, 16 Threads, AM4 - 100-100001503WOF', 1, 1746.31], ['Processador AMD Ryzen 5 5600, 3.5GHz (4.4GHz Max Turbo), Cache 35MB, AM4, Sem Vídeo - 100-100000927BOX', 1, 1587.92], ['Processador AMD Ryzen 5 5600GT, 3.6 GHz, (4.6GHz Max Turbo), Cachê 4MB, 6 Núcleos, 12 Threads, AM4 - 100-100001488BOX', 1, 849.99], ['Processador AMD Ryzen 5 5500, 3.6GHz (4.2GHz Max Turbo), Cache 19MB, AM4, Sem Vídeo - 100-100000457BOX', 1, 1107.5], ['Processador Intel Core i5-12400F, 2.5GHz (4.4GHz Max Turbo), Cache 18MB, LGA 1700 - BX8071512400F', 1, 775.99], ['Processador AMD Ryzen 5 4500, 3.6GHz (4.1GHz Max Turbo) Cache 11MB, AM4, Sem Vídeo - 100-100000644BOX', 1, 449.99], ['Processador AMD Ryzen 7 5700X, 3.4GHz (4.6GHz Max Turbo), Cache 36MB, AM4, Sem Vídeo - 100-100000926WOF', 1, 1299.99], ['Processador Intel Core i5-10400F, 2.9GHz (4.3GHz Max Turbo), Cache 12MB, 6 Núcleos, 12 Threads, LGA 1200 - BX8070110400F', 1, 499.99], ['Processador AMD Ryzen 5 5600X, 3.7GHz (4.6GHz Max Turbo), Cache 35MB, 6 Núcleos, 12 Threads, AM4 - 100-100000065BOX', 1, 2517.59], ['Placa de Vídeo RX 6600 CLD 8G ASRock AMD Radeon, 8GB, GDDR6  - 90-GA2RZZ-00UANF', 2, 1299.99], ['Placa de Vídeo RX 6600 V2 ASUS Dual AMD Radeon, 8GB GDDR6  - 90YV0GP2-M0NA00', 2, 1299.99], ['Placa de vídeo RTX 4060 ASUS Dual O8G EVO NVIDIA GeForce, 8GB GDDR6, G-SYNC, Ray Tracing - 90YV0JC7-M0NA00', 2, 1999.99], ['Placa de Vídeo GTX 1650 D6 Ventus XS OCV3 MSI NVIDIA GeForce, 4GB GDDR6, G- Sync - 912-V812-003', 2, 749.99], ['Placa de Vídeo RX7600 ASUS Dual Radeon, 8GB GDDR6 - 90YV0IH2-M0NA00', 2, 1598.99], ['Placa de Vídeo RTX 4060 1-Click OC 1X Galax NVIDIA GeForce, 8GB GDDR6, DLSS, Ray Trancing, G-Sync', 2, 1799.99], ['Placa de Vídeo Gigabyte Radeon RX 6600 EAGLE AMD, 8GB GDDR6, Preto - GV-R66EAGLE-8GD', 2, 1349.99], ['Placa de Vídeo RTX 4060 Dual OC 8G White NVIDIA GeForce, 8GB GDDR6, DLSS, Ray Tracing, G-Sync - 90YV0JC2-M0NA00', 2, 2199.99], ['Placa de Vídeo RTX 4060 Ti Click OC Galax NVIDIA GeForce, 8 GB GDDR6, DLSS, Ray Tracing  - 46ISL8MD8COC', 2, 2499.99], ['Placa de Vídeo RX 6600 CLD 8G ASRock AMD Radeon, 8GB, GDDR6  - 90-GA2RZZ-00UANF', 2, 1299.99], ['Placa de Vídeo RX 6600 V2 ASUS Dual AMD Radeon, 8GB GDDR6  - 90YV0GP2-M0NA00', 2, 1299.99], ['Placa de vídeo RTX 4060 ASUS Dual O8G EVO NVIDIA GeForce, 8GB GDDR6, G-SYNC, Ray Tracing - 90YV0JC7-M0NA00', 2, 1999.99], ['Placa de Vídeo GTX 1650 D6 Ventus XS OCV3 MSI NVIDIA GeForce, 4GB GDDR6, G- Sync - 912-V812-003', 2, 749.99], ['Placa de Vídeo RX7600 ASUS Dual Radeon, 8GB GDDR6 - 90YV0IH2-M0NA00', 2, 1598.99], ['Placa de Vídeo RTX 4060 1-Click OC 1X Galax NVIDIA GeForce, 8GB GDDR6, DLSS, Ray Trancing, G-Sync', 2, 1799.99], ['Placa de Vídeo Gigabyte Radeon RX 6600 EAGLE AMD, 8GB GDDR6, Preto - GV-R66EAGLE-8GD', 2, 1349.99], ['Placa de Vídeo RTX 4060 Dual OC 8G White NVIDIA GeForce, 8GB GDDR6, DLSS, Ray Tracing, G-Sync - 90YV0JC2-M0NA00', 2, 2199.99], ['Placa de Vídeo RTX 4060 Ti Click OC Galax NVIDIA GeForce, 8 GB GDDR6, DLSS, Ray Tracing  - 46ISL8MD8COC', 2, 2499.99], ['Placa de Vídeo RTX 2060 Duex NVIDIA GeForce, GDDR6  - RTX2060-6GD6', 2, 1399.99]]\n"
     ]
    }
   ],
   "source": [
    "print(data)"
   ]
  },
  {
   "cell_type": "code",
   "execution_count": 50,
   "id": "a5c823e8",
   "metadata": {},
   "outputs": [],
   "source": [
    "import pandas as pd"
   ]
  },
  {
   "cell_type": "code",
   "execution_count": 51,
   "id": "ad2e3a6c",
   "metadata": {},
   "outputs": [
    {
     "name": "stdout",
     "output_type": "stream",
     "text": [
      "                                      Name of product  Product type  \\\n",
      "0      Placa Mãe MSI A520M-A PRO, AMD AM4, mATX, DDR4             0   \n",
      "1   Placa Mãe Gigabyte B550M Aorus Elite, AMD AM4,...             0   \n",
      "2   Placa Mãe Asus TUF GAMING A520M-PLUS II, AMD A...             0   \n",
      "3   Placa Mãe MSI B560M PRO-E, Intel LGA 1200, mAT...             0   \n",
      "4   Placa Mãe ASRock B450M-HDV R4.0, AMD AM4, Micr...             0   \n",
      "5   Placa Mãe ASRock B450M Steel Legend, AMD AM4, ...             0   \n",
      "6    Placa-Mãe MSI MPG B550 Gaming Plus, AMD AM4, ATX             0   \n",
      "7   Placa Mãe Gigabyte B450M DS3H V2, AMD B450, mA...             0   \n",
      "8   Placa-Mãe Asus TUF Gaming B450M-Plus II, AMD A...             0   \n",
      "9   Placa Mãe Gigabyte H610M (rev. 1.0), Intel LGA...             0   \n",
      "10  Processador AMD Ryzen 5 4600G, 3.7GHz (4.2GHz ...             1   \n",
      "11  Processador AMD Ryzen 7 5700X3D, 3.6 GHz, (4.1...             1   \n",
      "12  Processador AMD Ryzen 5 5600, 3.5GHz (4.4GHz M...             1   \n",
      "13  Processador AMD Ryzen 5 5600GT, 3.6 GHz, (4.6G...             1   \n",
      "14  Processador AMD Ryzen 5 5500, 3.6GHz (4.2GHz M...             1   \n",
      "15  Processador Intel Core i5-12400F, 2.5GHz (4.4G...             1   \n",
      "16  Processador AMD Ryzen 5 4500, 3.6GHz (4.1GHz M...             1   \n",
      "17  Processador AMD Ryzen 7 5700X, 3.4GHz (4.6GHz ...             1   \n",
      "18  Processador Intel Core i5-10400F, 2.9GHz (4.3G...             1   \n",
      "19  Processador AMD Ryzen 5 5600X, 3.7GHz (4.6GHz ...             1   \n",
      "20  Placa de Vídeo RX 6600 CLD 8G ASRock AMD Radeo...             2   \n",
      "21  Placa de Vídeo RX 6600 V2 ASUS Dual AMD Radeon...             2   \n",
      "22  Placa de vídeo RTX 4060 ASUS Dual O8G EVO NVID...             2   \n",
      "23  Placa de Vídeo GTX 1650 D6 Ventus XS OCV3 MSI ...             2   \n",
      "24  Placa de Vídeo RX7600 ASUS Dual Radeon, 8GB GD...             2   \n",
      "25  Placa de Vídeo RTX 4060 1-Click OC 1X Galax NV...             2   \n",
      "26  Placa de Vídeo Gigabyte Radeon RX 6600 EAGLE A...             2   \n",
      "27  Placa de Vídeo RTX 4060 Dual OC 8G White NVIDI...             2   \n",
      "28  Placa de Vídeo RTX 4060 Ti Click OC Galax NVID...             2   \n",
      "29  Placa de Vídeo RX 6600 CLD 8G ASRock AMD Radeo...             2   \n",
      "30  Placa de Vídeo RX 6600 V2 ASUS Dual AMD Radeon...             2   \n",
      "31  Placa de vídeo RTX 4060 ASUS Dual O8G EVO NVID...             2   \n",
      "32  Placa de Vídeo GTX 1650 D6 Ventus XS OCV3 MSI ...             2   \n",
      "33  Placa de Vídeo RX7600 ASUS Dual Radeon, 8GB GD...             2   \n",
      "34  Placa de Vídeo RTX 4060 1-Click OC 1X Galax NV...             2   \n",
      "35  Placa de Vídeo Gigabyte Radeon RX 6600 EAGLE A...             2   \n",
      "36  Placa de Vídeo RTX 4060 Dual OC 8G White NVIDI...             2   \n",
      "37  Placa de Vídeo RTX 4060 Ti Click OC Galax NVID...             2   \n",
      "38  Placa de Vídeo RTX 2060 Duex NVIDIA GeForce, G...             2   \n",
      "\n",
      "    Price (R$)  \n",
      "0       369.99  \n",
      "1       784.99  \n",
      "2       549.99  \n",
      "3       499.99  \n",
      "4       359.99  \n",
      "5       648.99  \n",
      "6       899.99  \n",
      "7       474.99  \n",
      "8       598.99  \n",
      "9       474.99  \n",
      "10      599.99  \n",
      "11     1746.31  \n",
      "12     1587.92  \n",
      "13      849.99  \n",
      "14     1107.50  \n",
      "15      775.99  \n",
      "16      449.99  \n",
      "17     1299.99  \n",
      "18      499.99  \n",
      "19     2517.59  \n",
      "20     1299.99  \n",
      "21     1299.99  \n",
      "22     1999.99  \n",
      "23      749.99  \n",
      "24     1598.99  \n",
      "25     1799.99  \n",
      "26     1349.99  \n",
      "27     2199.99  \n",
      "28     2499.99  \n",
      "29     1299.99  \n",
      "30     1299.99  \n",
      "31     1999.99  \n",
      "32      749.99  \n",
      "33     1598.99  \n",
      "34     1799.99  \n",
      "35     1349.99  \n",
      "36     2199.99  \n",
      "37     2499.99  \n",
      "38     1399.99  \n"
     ]
    }
   ],
   "source": [
    "columns = ['Name of product', 'Product type', 'Price (R$)']\n",
    "\n",
    "\n",
    "df = pd.DataFrame(data, columns=columns)\n",
    "\n",
    "\n",
    "print(df)"
   ]
  },
  {
   "cell_type": "code",
   "execution_count": 52,
   "id": "aa19c8e6",
   "metadata": {},
   "outputs": [
    {
     "data": {
      "text/html": [
       "<div>\n",
       "<style scoped>\n",
       "    .dataframe tbody tr th:only-of-type {\n",
       "        vertical-align: middle;\n",
       "    }\n",
       "\n",
       "    .dataframe tbody tr th {\n",
       "        vertical-align: top;\n",
       "    }\n",
       "\n",
       "    .dataframe thead th {\n",
       "        text-align: right;\n",
       "    }\n",
       "</style>\n",
       "<table border=\"1\" class=\"dataframe\">\n",
       "  <thead>\n",
       "    <tr style=\"text-align: right;\">\n",
       "      <th></th>\n",
       "      <th>Name of product</th>\n",
       "      <th>Product type</th>\n",
       "      <th>Price (R$)</th>\n",
       "    </tr>\n",
       "  </thead>\n",
       "  <tbody>\n",
       "    <tr>\n",
       "      <th>0</th>\n",
       "      <td>Placa Mãe MSI A520M-A PRO, AMD AM4, mATX, DDR4</td>\n",
       "      <td>0</td>\n",
       "      <td>369.99</td>\n",
       "    </tr>\n",
       "    <tr>\n",
       "      <th>1</th>\n",
       "      <td>Placa Mãe Gigabyte B550M Aorus Elite, AMD AM4,...</td>\n",
       "      <td>0</td>\n",
       "      <td>784.99</td>\n",
       "    </tr>\n",
       "    <tr>\n",
       "      <th>2</th>\n",
       "      <td>Placa Mãe Asus TUF GAMING A520M-PLUS II, AMD A...</td>\n",
       "      <td>0</td>\n",
       "      <td>549.99</td>\n",
       "    </tr>\n",
       "    <tr>\n",
       "      <th>3</th>\n",
       "      <td>Placa Mãe MSI B560M PRO-E, Intel LGA 1200, mAT...</td>\n",
       "      <td>0</td>\n",
       "      <td>499.99</td>\n",
       "    </tr>\n",
       "    <tr>\n",
       "      <th>4</th>\n",
       "      <td>Placa Mãe ASRock B450M-HDV R4.0, AMD AM4, Micr...</td>\n",
       "      <td>0</td>\n",
       "      <td>359.99</td>\n",
       "    </tr>\n",
       "  </tbody>\n",
       "</table>\n",
       "</div>"
      ],
      "text/plain": [
       "                                     Name of product  Product type  Price (R$)\n",
       "0     Placa Mãe MSI A520M-A PRO, AMD AM4, mATX, DDR4             0      369.99\n",
       "1  Placa Mãe Gigabyte B550M Aorus Elite, AMD AM4,...             0      784.99\n",
       "2  Placa Mãe Asus TUF GAMING A520M-PLUS II, AMD A...             0      549.99\n",
       "3  Placa Mãe MSI B560M PRO-E, Intel LGA 1200, mAT...             0      499.99\n",
       "4  Placa Mãe ASRock B450M-HDV R4.0, AMD AM4, Micr...             0      359.99"
      ]
     },
     "execution_count": 52,
     "metadata": {},
     "output_type": "execute_result"
    }
   ],
   "source": [
    "df.head()"
   ]
  },
  {
   "cell_type": "code",
   "execution_count": 53,
   "id": "3c605a01",
   "metadata": {},
   "outputs": [],
   "source": [
    "df.to_csv('data.csv', index=False) "
   ]
  },
  {
   "cell_type": "code",
   "execution_count": null,
   "id": "3d91fdf2",
   "metadata": {},
   "outputs": [],
   "source": []
  }
 ],
 "metadata": {
  "kernelspec": {
   "display_name": "Python 3 (ipykernel)",
   "language": "python",
   "name": "python3"
  },
  "language_info": {
   "codemirror_mode": {
    "name": "ipython",
    "version": 3
   },
   "file_extension": ".py",
   "mimetype": "text/x-python",
   "name": "python",
   "nbconvert_exporter": "python",
   "pygments_lexer": "ipython3",
   "version": "3.11.4"
  }
 },
 "nbformat": 4,
 "nbformat_minor": 5
}
