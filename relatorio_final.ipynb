{
 "cells": [
  {
   "cell_type": "markdown",
   "id": "e677ef80",
   "metadata": {},
   "source": [
    "# Projeto Final\n",
    "## Análise de Texto de Fontes Desestruturadas e Web.\n",
    "\n",
    "#### Integrantes\n",
    "- Manuel Castanares\n",
    "- Rafael Malcervelli "
   ]
  },
  {
   "cell_type": "markdown",
   "id": "947e28f4",
   "metadata": {},
   "source": [
    "### Objetivo"
   ]
  },
  {
   "cell_type": "markdown",
   "id": "9b6e2313",
   "metadata": {},
   "source": [
    "O projeto envolverá o uso das técnicas aprendidas em aula para conduzir, com autonomia, a criação de uma prova de conceito envolvendo a extração de dados de fontes desestruturadas e sua posterior análise."
   ]
  },
  {
   "cell_type": "markdown",
   "id": "91708a6f",
   "metadata": {},
   "source": [
    "### Introdução"
   ]
  },
  {
   "cell_type": "markdown",
   "id": "1620088c",
   "metadata": {},
   "source": [
    "No mercado de PC gamers, a escolha de componentes é uma decisão crítica que pode afetar significativamente o desempenho e a satisfação do usuário final. Dada a constante flutuação dos preços e a vasta gama de produtos disponíveis, consumidores e montadores de PCs enfrentam o desafio de identificar as melhores opções de compra. Este projeto propõe a utilização de técnicas de web scraping e análise de texto para extrair e analisar dados de múltiplos marketplaces, proporcionando uma ferramenta útil para a comparação de preços, disponibilidade de estoque e qualidade percebida dos componentes."
   ]
  },
  {
   "cell_type": "markdown",
   "id": "32cc4161",
   "metadata": {},
   "source": [
    "<p align=center>\n",
    "    <img src=\" ./imgs/pc_gamer_1.jpg\" alt=\"PC GAMER\" class=\"bg-primary mb-1\" width=\"500px\">\n",
    "</p>"
   ]
  },
  {
   "cell_type": "markdown",
   "id": "74a93fd6",
   "metadata": {},
   "source": [
    "### Problema"
   ]
  },
  {
   "cell_type": "markdown",
   "id": "0c29901c",
   "metadata": {},
   "source": [
    "A principal problemática abordada neste projeto é a dificuldade em obter uma visão clara e atualizada das melhores opções de compra para componentes de PCs gamers devido à volatilidade dos preços e à diversidade de produtos. Esta situação leva a decisões de compra que nem sempre são ótimas em termos de custo-benefício. Portanto, a necessidade de uma solução que agilize e refine o processo de escolha se faz essencial para consumidores e profissionais da área.\n",
    "\n",
    "A situacao-problema que propomos aqui é a seguinte:<br><br>\n",
    "Um jovem gostaria de montar um PC gamer que consiga rodar com facilidade os jogos atuais (gráfico avancados, demandando processamento de video) e jogos competitivos. Para isso, esse jovem ja tem em mente a maquina que gostaria de montar com todos os seus componentes e explicacoes dos mesmos, que seguem:\n",
    "\n",
    "- Placa-mae: O 'coração' do computador, conecta todos os componentes, permitindo que eles se comuniquem. A escolha da placa-mãe influencia diretamente quais processadores e tipos de memória serão compatíveis. -> Placa escolhida para análise (**Asus TUF GAMING Z690-PLUS D4 ATX LGA 1700**). <br><br>\n",
    "- CPU (Processador): O 'cérebro' do PC, crucial para o processamento de todas as tarefas. O desempenho do processador afeta diretamente a capacidade do sistema em executar jogos complexos sem travamentos. -> CPU escolhida para análise (**Intel Core i7 12700K 3.6 GHz 12-Core**).<br><br>\n",
    "- GPU (Placa de vídeo): Fundamental para renderizar gráficos avançados em tempo real, a escolha da placa de vídeo é crucial para a experiência visual em jogos. -> GPU escolhida para análise (**Gigabyte GeForce RTX 4060 8 GB Gaming**).<br><br>\n",
    "- Memória RAM: Responsável por armazenar os dados temporários do sistema, uma quantidade suficiente de RAM é vital para garantir uma operação suave e eficiente durante jogos intensivos. -> Memória escolhida para análise (**Kingston HyperX Fury Black Series (Preto) 8 GB (1x8 GB) DDR4-2666**).<br><br>\n",
    "- Armazenamento (SSD): Discos de estado sólido (SSD) proporcionam tempos de carregamento mais rápidos para sistemas operacionais e jogos quando comparados aos discos rígidos tradicionais (HDD). -> SSD escolhido para análise (**SanDisk SSD Plus 1 TB 2.5\"**).<br><br>\n",
    "- Fonte de Alimentação: Supre a energia necessária para todos os componentes. Uma fonte de qualidade e com potência adequada é essencial para a estabilidade e longevidade do sistema. -> Fonte escolhida para análise (**Corsair CV550 550 W Certificado 80+ Bronze ATX**).<br><br>\n",
    "- Fans (Ventoinhas): Cruciais para manter uma temperatura operacional adequada dentro do gabinete, evitando o superaquecimento dos componentes. -> Fan escolhido para análise (**Cooler Master Masterfan Mf120 Halo RGB**).<br><br>\n",
    "- Cooler para CPU: Específico para o resfriamento do processador, é vital para manter o desempenho sem riscos de superaquecimento, especialmente em sessões prolongadas de jogos. -> Cooler escolhido para análise (**Deepcool AG400 BK**).<br><br>\n",
    "- Gabinete: Estrutura do PC que irá segurar todas as pecas nos seus devidos lugares. Além da questao estetica, é sempre bom visar por gabinetes que apresentam um bom fluxo de ar dentro deles, permitindo uma maior circulacao e consequentemente, uma diminuicao na temperatura das pecas. -> Gabinete escolhido para análise (** **)."
   ]
  },
  {
   "cell_type": "markdown",
   "id": "dd069117",
   "metadata": {},
   "source": [
    "<p align=center>\n",
    "    <img src=\" ./imgs/pc_gamer_2.jpg\" alt=\"PC GAMER 2\" class=\"bg-primary mb-1\" width=\"500px\">\n",
    "</p>"
   ]
  },
  {
   "cell_type": "markdown",
   "id": "1f19314e",
   "metadata": {},
   "source": []
  }
 ],
 "metadata": {
  "kernelspec": {
   "display_name": "",
   "name": ""
  },
  "language_info": {
   "name": ""
  }
 },
 "nbformat": 4,
 "nbformat_minor": 5
}
